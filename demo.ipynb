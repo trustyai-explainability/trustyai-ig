{
 "cells": [
  {
   "cell_type": "code",
   "execution_count": 1,
   "id": "efdf9c5b-db65-4477-9c37-754be71cefe0",
   "metadata": {
    "tags": []
   },
   "outputs": [
    {
     "name": "stdout",
     "output_type": "stream",
     "text": [
      "\n",
      "\u001b[1m[\u001b[0m\u001b[34;49mnotice\u001b[0m\u001b[1;39;49m]\u001b[0m\u001b[39;49m A new release of pip available: \u001b[0m\u001b[31;49m22.2.2\u001b[0m\u001b[39;49m -> \u001b[0m\u001b[32;49m23.3.2\u001b[0m\n",
      "\u001b[1m[\u001b[0m\u001b[34;49mnotice\u001b[0m\u001b[1;39;49m]\u001b[0m\u001b[39;49m To update, run: \u001b[0m\u001b[32;49mpip install --upgrade pip\u001b[0m\n"
     ]
    }
   ],
   "source": [
    "# install required libraries and packages\n",
    "!pip install -qr requirements.txt"
   ]
  },
  {
   "cell_type": "code",
   "execution_count": 2,
   "id": "d41600ce-9dcb-4c9c-adf6-aa6bc8035877",
   "metadata": {
    "tags": []
   },
   "outputs": [],
   "source": [
    "# common\n",
    "import os\n",
    "import random\n",
    "import numpy as np\n",
    "\n",
    "# viz\n",
    "from IPython.display import display\n",
    "\n",
    "# local\n",
    "from ig_enabler import (\n",
    "    ig,\n",
    "    visualize\n",
    ")\n",
    "\n",
    "# third party \n",
    "from transformers import (\n",
    "    AutoModelForSequenceClassification, \n",
    "    AutoTokenizer\n",
    ")\n",
    "from datasets import load_dataset"
   ]
  },
  {
   "cell_type": "markdown",
   "id": "b30fcbaf-5f18-4d91-9c96-695ae89557e3",
   "metadata": {},
   "source": [
    "## Objective\n",
    "\n",
    "Determine which words in an input sentence contribute the most to a LLM sentiment classification prediction using Integrated Gradients."
   ]
  },
  {
   "cell_type": "markdown",
   "id": "c3ecbca0-a956-4b71-ad23-780291a5c52c",
   "metadata": {},
   "source": [
    "## Load dataset and sample"
   ]
  },
  {
   "cell_type": "code",
   "execution_count": 3,
   "id": "317c1836-dce6-4d0d-adac-144e6bef578c",
   "metadata": {
    "tags": []
   },
   "outputs": [],
   "source": [
    "def get_rand_sample(dataset):\n",
    "    sample_idx = random.randint(0, len(dataset))\n",
    "    sample = dataset.select([sample_idx])\n",
    "    review = sample['text'][0]\n",
    "    label = sample['label'][0]\n",
    "    return review, label"
   ]
  },
  {
   "cell_type": "code",
   "execution_count": 4,
   "id": "5999b8e2-ac98-4151-97f4-d412e073c3b7",
   "metadata": {
    "tags": []
   },
   "outputs": [
    {
     "name": "stdout",
     "output_type": "stream",
     "text": [
      "Review: Wow. What a wonderful film. The script is nearly perfect it appears this is the only film written by Minglun Wei,I hope he has more stories in him.<br /><br />The acting is sublime. Renying Zhou as Doggie was amazing -- very natural talent, and Xu Zhu was a delight - very believable as the jaded old traditionalist. <br /><br />The soundtrack was very effective, guiding without being overwhelming. <br /><br />If only more movies like this were made whether in Hollywood or Hong Kong- a family friendly, well acted, well written, well directed, near perfect gem.\n",
      "Label: 1\n"
     ]
    }
   ],
   "source": [
    "dataset = load_dataset('imdb')\n",
    "review, label = get_rand_sample(dataset['train'])\n",
    "print(f'Review: {review}\\nLabel: {label}')"
   ]
  },
  {
   "cell_type": "markdown",
   "id": "fbcd8735-3b23-49ba-bcfc-a746f4403d74",
   "metadata": {
    "tags": []
   },
   "source": [
    "## Load finetuned model and tokenizer"
   ]
  },
  {
   "cell_type": "code",
   "execution_count": 6,
   "id": "7f0a123b-933e-4d3f-89c9-8b797133925d",
   "metadata": {
    "tags": []
   },
   "outputs": [],
   "source": [
    "tokenizer = AutoTokenizer.from_pretrained(\"lvwerra/distilbert-imdb\")\n",
    "model = AutoModelForSequenceClassification.from_pretrained(\"lvwerra/distilbert-imdb\")"
   ]
  },
  {
   "cell_type": "code",
   "execution_count": 5,
   "id": "b9fd28dc-1f77-452b-b149-d7b97506818a",
   "metadata": {
    "tags": []
   },
   "outputs": [],
   "source": [
    "def sigmoid(logits):\n",
    "    return 1.0 / (1.0 + np.exp(-logits))"
   ]
  },
  {
   "cell_type": "code",
   "execution_count": 7,
   "id": "3274e21f-4ebb-4c4a-9ade-173b1e39f007",
   "metadata": {
    "tags": []
   },
   "outputs": [
    {
     "name": "stdout",
     "output_type": "stream",
     "text": [
      "label: POSITIVE, prob: 0.9452095627784729\n"
     ]
    }
   ],
   "source": [
    "model_inputs = tokenizer(review, return_tensors=\"pt\", truncation=True)\n",
    "model_outputs = model(**model_inputs)\n",
    "\n",
    "# extract logits\n",
    "logits = model_outputs[\"logits\"][0]\n",
    "logits = logits.detach().numpy()\n",
    "output = sigmoid(logits)\n",
    "pred, prob = np.argmax(output), max(output)\n",
    "\n",
    "label = \"POSITIVE\" if pred==1 else \"NEGATIVE\"\n",
    "print(f\"label: {label}, prob: {prob}\")"
   ]
  },
  {
   "cell_type": "markdown",
   "id": "8e9926ac-1a0a-4e70-934f-879314ffadd4",
   "metadata": {},
   "source": [
    "## Integrated gradients\n",
    "\n",
    "Allows us to examine how much each input feature contributes to a LLMS's output by assigning importance scores to each input feature. \n",
    "\n",
    "1. Start with a baseline or a \"neutral\" input\n",
    "2. Define a certain number of steps that we need to take in order to get from baseline to the actual input of the model\n",
    "3. In each step, we have the model output a prediction\n",
    "4. Take the gradient of the prediction w.r.t the input\n",
    "5. Accumlate the gradients and take the integral w.r.t the output"
   ]
  },
  {
   "cell_type": "code",
   "execution_count": 8,
   "id": "fba6f7d7-d0d0-404f-8a26-2166b264f6d4",
   "metadata": {
    "tags": []
   },
   "outputs": [
    {
     "name": "stdout",
     "output_type": "stream",
     "text": [
      "step: 0/5\n",
      "input embedding: tensor([[[0., 0., 0.,  ..., 0., 0., 0.],\n",
      "         [0., 0., 0.,  ..., 0., 0., 0.],\n",
      "         [0., 0., 0.,  ..., 0., 0., 0.],\n",
      "         ...,\n",
      "         [0., 0., 0.,  ..., 0., 0., 0.],\n",
      "         [0., 0., 0.,  ..., 0., 0., 0.],\n",
      "         [0., 0., 0.,  ..., 0., 0., 0.]]])\n",
      "step: 1/5\n",
      "input embedding: tensor([[[ 0.0082, -0.0025, -0.0044,  ...,  0.0126,  0.0043,  0.0051],\n",
      "         [-0.0042, -0.0035, -0.0221,  ..., -0.0016,  0.0020, -0.0112],\n",
      "         [-0.0044, -0.0027, -0.0014,  ...,  0.0016,  0.0006, -0.0005],\n",
      "         ...,\n",
      "         [-0.0032, -0.0146, -0.0074,  ..., -0.0235, -0.0099, -0.0182],\n",
      "         [-0.0044, -0.0027, -0.0014,  ...,  0.0016,  0.0006, -0.0005],\n",
      "         [-0.0034, -0.0021, -0.0024,  ..., -0.0045,  0.0011, -0.0015]]])\n",
      "step: 2/5\n",
      "input embedding: tensor([[[ 0.0165, -0.0050, -0.0088,  ...,  0.0251,  0.0085,  0.0101],\n",
      "         [-0.0084, -0.0071, -0.0442,  ..., -0.0033,  0.0040, -0.0225],\n",
      "         [-0.0087, -0.0055, -0.0029,  ...,  0.0031,  0.0012, -0.0009],\n",
      "         ...,\n",
      "         [-0.0063, -0.0292, -0.0148,  ..., -0.0471, -0.0197, -0.0364],\n",
      "         [-0.0087, -0.0055, -0.0029,  ...,  0.0031,  0.0012, -0.0009],\n",
      "         [-0.0069, -0.0043, -0.0048,  ..., -0.0091,  0.0022, -0.0029]]])\n",
      "step: 3/5\n",
      "input embedding: tensor([[[ 0.0247, -0.0075, -0.0132,  ...,  0.0377,  0.0128,  0.0152],\n",
      "         [-0.0126, -0.0106, -0.0663,  ..., -0.0049,  0.0059, -0.0337],\n",
      "         [-0.0131, -0.0082, -0.0043,  ...,  0.0047,  0.0018, -0.0014],\n",
      "         ...,\n",
      "         [-0.0095, -0.0438, -0.0221,  ..., -0.0706, -0.0296, -0.0546],\n",
      "         [-0.0131, -0.0082, -0.0043,  ...,  0.0047,  0.0018, -0.0014],\n",
      "         [-0.0103, -0.0064, -0.0072,  ..., -0.0136,  0.0033, -0.0044]]])\n",
      "step: 4/5\n",
      "input embedding: tensor([[[ 0.0329, -0.0100, -0.0176,  ...,  0.0502,  0.0170,  0.0203],\n",
      "         [-0.0168, -0.0142, -0.0883,  ..., -0.0065,  0.0079, -0.0450],\n",
      "         [-0.0175, -0.0109, -0.0058,  ...,  0.0062,  0.0024, -0.0019],\n",
      "         ...,\n",
      "         [-0.0126, -0.0584, -0.0295,  ..., -0.0941, -0.0395, -0.0728],\n",
      "         [-0.0175, -0.0109, -0.0058,  ...,  0.0062,  0.0024, -0.0019],\n",
      "         [-0.0138, -0.0086, -0.0096,  ..., -0.0181,  0.0044, -0.0059]]])\n",
      "step: 5/5\n",
      "input embedding: tensor([[[ 0.0412, -0.0125, -0.0220,  ...,  0.0628,  0.0213,  0.0253],\n",
      "         [-0.0210, -0.0177, -0.1104,  ..., -0.0081,  0.0099, -0.0562],\n",
      "         [-0.0218, -0.0137, -0.0072,  ...,  0.0078,  0.0031, -0.0023],\n",
      "         ...,\n",
      "         [-0.0158, -0.0730, -0.0369,  ..., -0.1177, -0.0493, -0.0910],\n",
      "         [-0.0218, -0.0137, -0.0072,  ...,  0.0078,  0.0031, -0.0023],\n",
      "         [-0.0172, -0.0107, -0.0120,  ..., -0.0227,  0.0054, -0.0073]]])\n"
     ]
    }
   ],
   "source": [
    "ig_enabled_model = ig.IGWrapper(model)\n",
    "\n",
    "scores = ig_enabled_model(model_inputs['input_ids'],\n",
    "                          model_inputs['attention_mask'],\n",
    "                          baseline=None, \n",
    "                          num_steps=5)\n",
    "\n",
    "scores = scores.tolist()[0]"
   ]
  },
  {
   "cell_type": "markdown",
   "id": "11739813-810f-40df-a063-74ccad0f98de",
   "metadata": {},
   "source": [
    "## Visualize top tokens"
   ]
  },
  {
   "cell_type": "code",
   "execution_count": 9,
   "id": "735497da-951b-4ad3-9bd8-f020a2b5daa4",
   "metadata": {
    "tags": []
   },
   "outputs": [
    {
     "data": {
      "text/html": [
       " <span style='color:rgb(110,163,110)'>[CLS]</span> <span style='color:rgb(95,193,95)'>wow</span> <span style='color:rgb(123,138,123)'>.</span> <span style='color:rgb(116,151,116)'>what</span> <span style='color:rgb(123,138,123)'>a</span> <span style='color:rgb(92,200,92)'>wonderful</span> <span style='color:rgb(115,153,115)'>film</span> <span style='color:rgb(125,134,125)'>.</span> <span style='color:rgb(126,132,126)'>the</span> <span style='color:rgb(108,168,108)'>script</span> <span style='color:rgb(121,142,121)'>is</span> <span style='color:rgb(115,154,115)'>nearly</span> <span style='color:rgb(89,206,89)'>perfect</span> <span style='color:rgb(113,157,113)'>it</span> <span style='color:rgb(101,181,101)'>appears</span> <span style='color:rgb(117,149,117)'>this</span> <span style='color:rgb(121,141,121)'>is</span> <span style='color:rgb(124,135,124)'>the</span> <span style='color:rgb(113,157,113)'>only</span> <span style='color:rgb(119,145,119)'>film</span> <span style='color:rgb(122,140,122)'>written</span> <span style='color:rgb(125,134,125)'>by</span> <span style='color:rgb(122,139,122)'>ming</span> <span style='color:rgb(122,140,122)'>##lun</span> <span style='color:rgb(119,145,119)'>wei</span> <span style='color:rgb(126,131,126)'>,</span> <span style='color:rgb(124,135,124)'>i</span> <span style='color:rgb(120,143,120)'>hope</span> <span style='color:rgb(125,133,125)'>he</span> <span style='color:rgb(125,134,125)'>has</span> <span style='color:rgb(125,134,125)'>more</span> <span style='color:rgb(120,144,120)'>stories</span> <span style='color:rgb(127,130,127)'>in</span> <span style='color:rgb(126,132,126)'>him</span> <span style='color:rgb(126,131,126)'>.</span> <span style='color:rgb(126,131,126)'><</span> <span style='color:rgb(128,128,128)'>br</span> <span style='color:rgb(128,128,128)'>/</span> <span style='color:rgb(127,130,127)'>></span> <span style='color:rgb(127,130,127)'><</span> <span style='color:rgb(128,128,128)'>br</span> <span style='color:rgb(128,128,128)'>/</span> <span style='color:rgb(125,134,125)'>></span> <span style='color:rgb(126,131,126)'>the</span> <span style='color:rgb(112,160,112)'>acting</span> <span style='color:rgb(116,151,116)'>is</span> <span style='color:rgb(64,255,64)'>sublime</span> <span style='color:rgb(121,142,121)'>.</span> <span style='color:rgb(119,145,119)'>ren</span> <span style='color:rgb(117,149,117)'>##ying</span> <span style='color:rgb(103,178,103)'>zhou</span> <span style='color:rgb(124,136,124)'>as</span> <span style='color:rgb(120,144,120)'>dogg</span> <span style='color:rgb(121,141,121)'>##ie</span> <span style='color:rgb(123,138,123)'>was</span> <span style='color:rgb(111,162,111)'>amazing</span> <span style='color:rgb(125,133,125)'>-</span> <span style='color:rgb(125,133,125)'>-</span> <span style='color:rgb(122,139,122)'>very</span> <span style='color:rgb(116,151,116)'>natural</span> <span style='color:rgb(113,157,113)'>talent</span> <span style='color:rgb(126,131,126)'>,</span> <span style='color:rgb(124,135,124)'>and</span> <span style='color:rgb(116,151,116)'>xu</span> <span style='color:rgb(117,150,117)'>zhu</span> <span style='color:rgb(124,136,124)'>was</span> <span style='color:rgb(125,134,125)'>a</span> <span style='color:rgb(100,184,100)'>delight</span> <span style='color:rgb(125,133,125)'>-</span> <span style='color:rgb(123,138,123)'>very</span> <span style='color:rgb(122,140,122)'>bel</span> <span style='color:rgb(124,135,124)'>##ie</span> <span style='color:rgb(116,152,116)'>##vable</span> <span style='color:rgb(125,134,125)'>as</span> <span style='color:rgb(127,129,127)'>the</span> <span style='color:rgb(121,141,121)'>jade</span> <span style='color:rgb(126,131,126)'>##d</span> <span style='color:rgb(124,136,124)'>old</span> <span style='color:rgb(122,140,122)'>traditional</span> <span style='color:rgb(124,135,124)'>##ist</span> <span style='color:rgb(126,132,126)'>.</span> <span style='color:rgb(127,130,127)'><</span> <span style='color:rgb(128,128,128)'>br</span> <span style='color:rgb(127,128,128)'>/</span> <span style='color:rgb(127,129,127)'>></span> <span style='color:rgb(126,131,126)'><</span> <span style='color:rgb(128,128,128)'>br</span> <span style='color:rgb(128,128,128)'>/</span> <span style='color:rgb(125,133,125)'>></span> <span style='color:rgb(125,133,125)'>the</span> <span style='color:rgb(110,163,110)'>soundtrack</span> <span style='color:rgb(114,155,114)'>was</span> <span style='color:rgb(118,147,118)'>very</span> <span style='color:rgb(92,200,92)'>effective</span> <span style='color:rgb(122,139,122)'>,</span> <span style='color:rgb(105,173,105)'>guiding</span> <span style='color:rgb(112,159,112)'>without</span> <span style='color:rgb(122,140,122)'>being</span> <span style='color:rgb(106,172,106)'>overwhelming</span> <span style='color:rgb(122,139,122)'>.</span> <span style='color:rgb(125,134,125)'><</span> <span style='color:rgb(127,129,127)'>br</span> <span style='color:rgb(128,128,128)'>/</span> <span style='color:rgb(126,131,126)'>></span> <span style='color:rgb(126,131,126)'><</span> <span style='color:rgb(128,128,128)'>br</span> <span style='color:rgb(128,128,128)'>/</span> <span style='color:rgb(123,138,123)'>></span> <span style='color:rgb(112,160,112)'>if</span> <span style='color:rgb(115,154,115)'>only</span> <span style='color:rgb(120,143,120)'>more</span> <span style='color:rgb(117,149,117)'>movies</span> <span style='color:rgb(115,153,115)'>like</span> <span style='color:rgb(121,142,121)'>this</span> <span style='color:rgb(120,144,120)'>were</span> <span style='color:rgb(122,140,122)'>made</span> <span style='color:rgb(110,164,110)'>whether</span> <span style='color:rgb(123,138,123)'>in</span> <span style='color:rgb(116,151,116)'>hollywood</span> <span style='color:rgb(120,144,120)'>or</span> <span style='color:rgb(112,159,112)'>hong</span> <span style='color:rgb(112,159,112)'>kong</span> <span style='color:rgb(120,144,120)'>-</span> <span style='color:rgb(120,144,120)'>a</span> <span style='color:rgb(118,148,118)'>family</span> <span style='color:rgb(112,160,112)'>friendly</span> <span style='color:rgb(124,136,124)'>,</span> <span style='color:rgb(113,157,113)'>well</span> <span style='color:rgb(109,166,109)'>acted</span> <span style='color:rgb(122,139,122)'>,</span> <span style='color:rgb(113,157,113)'>well</span> <span style='color:rgb(117,149,117)'>written</span> <span style='color:rgb(123,137,123)'>,</span> <span style='color:rgb(116,152,116)'>well</span> <span style='color:rgb(114,155,114)'>directed</span> <span style='color:rgb(119,146,119)'>,</span> <span style='color:rgb(107,169,107)'>near</span> <span style='color:rgb(100,184,100)'>perfect</span> <span style='color:rgb(81,221,81)'>gem</span> <span style='color:rgb(117,149,117)'>.</span> <span style='color:rgb(121,141,121)'>[SEP]</span>"
      ],
      "text/plain": [
       "<IPython.core.display.HTML object>"
      ]
     },
     "metadata": {},
     "output_type": "display_data"
    },
    {
     "data": {
      "image/png": "[encoded data removed]",
      "text/plain": [
       "<Figure size 2100x300 with 1 Axes>"
      ]
     },
     "metadata": {},
     "output_type": "display_data"
    }
   ],
   "source": [
    "tokens = tokenizer.convert_ids_to_tokens(model_inputs['input_ids'][0])\n",
    "\n",
    "display(visualize.visualize_token_scores(tokens, scores))\n",
    "\n",
    "visualize.plot_topk_scores(tokens, scores, 10)"
   ]
  }
 ],
 "metadata": {
  "kernelspec": {
   "display_name": "Python 3.9",
   "language": "python",
   "name": "python3"
  },
  "language_info": {
   "codemirror_mode": {
    "name": "ipython",
    "version": 3
   },
   "file_extension": ".py",
   "mimetype": "text/x-python",
   "name": "python",
   "nbconvert_exporter": "python",
   "pygments_lexer": "ipython3",
   "version": "3.9.18"
  }
 },
 "nbformat": 4,
 "nbformat_minor": 5
}
